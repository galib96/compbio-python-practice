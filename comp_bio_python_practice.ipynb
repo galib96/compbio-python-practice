{
 "cells": [
  {
   "cell_type": "code",
   "execution_count": 1,
   "metadata": {},
   "outputs": [],
   "source": [
    "import numpy as np\n",
    "import matplotlib.pyplot as plt\n",
    "from scipy.integrate import odeint"
   ]
  },
  {
   "cell_type": "code",
   "execution_count": 11,
   "metadata": {},
   "outputs": [],
   "source": [
    "y0 = [0,0] # [mRna, Protein]\n",
    "\n",
    "t = np.linspace(0,200,100)\n",
    "\n",
    "k_m = 0.4\n",
    "gamma_m = 0.08\n",
    "k_p = 0.25\n",
    "gamma_p = 0.2\n",
    "\n",
    "params = [k_m, gamma_m, k_p, gamma_p]"
   ]
  },
  {
   "cell_type": "code",
   "execution_count": 12,
   "metadata": {},
   "outputs": [],
   "source": [
    "def sim(variables, time, parameters):\n",
    "    m, p = variables\n",
    "    k_m, gamma_m, k_p, gamma_p = parameters\n",
    "    \n",
    "    dmdt = k_m - gamma_m*m\n",
    "    dpdt = k_p*m - gamma_p*p\n",
    "    \n",
    "    return ([dmdt, dpdt])"
   ]
  },
  {
   "cell_type": "code",
   "execution_count": 13,
   "metadata": {},
   "outputs": [
    {
     "data": {
      "image/png": "[encoded data removed]",
      "text/plain": [
       "<Figure size 432x288 with 1 Axes>"
      ]
     },
     "metadata": {
      "needs_background": "light"
     },
     "output_type": "display_data"
    }
   ],
   "source": [
    "y = odeint(sim, y0, t, args=(params,))\n",
    "\n",
    "f,ax = plt.subplots(1)\n",
    "\n",
    "line1 = ax.plot(t, y[:,0], color='b', label='M')\n",
    "line2 = ax.plot(t, y[:,1], color='r', label='P')\n",
    "\n",
    "ax.set_ylabel('Abundance')\n",
    "ax.set_xlabel('Time')\n",
    "plt.legend()\n",
    "plt.show()"
   ]
  },
  {
   "cell_type": "code",
   "execution_count": null,
   "metadata": {},
   "outputs": [],
   "source": []
  }
 ],
 "metadata": {
  "kernelspec": {
   "display_name": "Python 3.7.3 64-bit",
   "language": "python",
   "name": "python3"
  },
  "language_info": {
   "codemirror_mode": {
    "name": "ipython",
    "version": 3
   },
   "file_extension": ".py",
   "mimetype": "text/x-python",
   "name": "python",
   "nbconvert_exporter": "python",
   "pygments_lexer": "ipython3",
   "version": "3.7.3"
  },
  "orig_nbformat": 4,
  "vscode": {
   "interpreter": {
    "hash": "999ea782e2d719ec62688e738a2ff20f2535cd73f1388dd13a2d835295a4fc1a"
   }
  }
 },
 "nbformat": 4,
 "nbformat_minor": 2
}

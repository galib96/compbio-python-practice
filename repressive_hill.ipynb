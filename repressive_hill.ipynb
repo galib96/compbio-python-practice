{
 "cells": [
  {
   "cell_type": "code",
   "execution_count": 1,
   "metadata": {},
   "outputs": [],
   "source": [
    "import numpy as np\n",
    "import matplotlib.pyplot as plt\n",
    "from scipy.integrate import odeint"
   ]
  },
  {
   "cell_type": "code",
   "execution_count": 5,
   "metadata": {},
   "outputs": [],
   "source": [
    "y0 = [0,0] # [G1, G2]\n",
    "\n",
    "t = np.linspace(0,200,100)\n",
    "\n",
    "k_1 = 0.3\n",
    "gamma_1 = 0.05\n",
    "k_2 = 0.2\n",
    "gamma_2 = 0.05\n",
    "\n",
    "n = 5\n",
    "c = 5\n",
    "\n",
    "params = [k_1, gamma_1, k_2, gamma_2, n, c]"
   ]
  },
  {
   "cell_type": "code",
   "execution_count": 6,
   "metadata": {},
   "outputs": [],
   "source": [
    "def sim(variables, time, parameters):\n",
    "    g1, g2 = variables\n",
    "    k_1, gamma_1, k_2, gamma_2, n, c = parameters\n",
    "    \n",
    "    dg1 = k_1 - gamma_1*g1\n",
    "    dg2 = k_2*(c**n)/(c**n + g1**n) - gamma_2*g2\n",
    "    \n",
    "    return ([dg1, dg2])"
   ]
  },
  {
   "cell_type": "code",
   "execution_count": 7,
   "metadata": {},
   "outputs": [
    {
     "data": {
      "image/png": "[encoded data removed]",
      "text/plain": [
       "<Figure size 432x288 with 1 Axes>"
      ]
     },
     "metadata": {
      "needs_background": "light"
     },
     "output_type": "display_data"
    }
   ],
   "source": [
    "y = odeint(sim, y0, t, args=(params,))\n",
    "\n",
    "f,ax = plt.subplots(1)\n",
    "\n",
    "line1 = ax.plot(t, y[:,0], color='b', label='G1')\n",
    "line2 = ax.plot(t, y[:,1], color='r', label='G2')\n",
    "\n",
    "ax.set_ylabel('Number')\n",
    "ax.set_xlabel('Time')\n",
    "plt.legend()\n",
    "plt.show()"
   ]
  }
 ],
 "metadata": {
  "kernelspec": {
   "display_name": "Python 3.7.3 64-bit",
   "language": "python",
   "name": "python3"
  },
  "language_info": {
   "codemirror_mode": {
    "name": "ipython",
    "version": 3
   },
   "file_extension": ".py",
   "mimetype": "text/x-python",
   "name": "python",
   "nbconvert_exporter": "python",
   "pygments_lexer": "ipython3",
   "version": "3.7.3"
  },
  "orig_nbformat": 4,
  "vscode": {
   "interpreter": {
    "hash": "999ea782e2d719ec62688e738a2ff20f2535cd73f1388dd13a2d835295a4fc1a"
   }
  }
 },
 "nbformat": 4,
 "nbformat_minor": 2
}
